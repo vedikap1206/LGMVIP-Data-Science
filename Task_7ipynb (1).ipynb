{
  "nbformat": 4,
  "nbformat_minor": 0,
  "metadata": {
    "colab": {
      "name": "Task#7ipynb",
      "provenance": [],
      "collapsed_sections": []
    },
    "kernelspec": {
      "name": "python3",
      "display_name": "Python 3"
    },
    "language_info": {
      "name": "python"
    }
  },
  "cells": [
    {
      "cell_type": "markdown",
      "source": [
        "**LetsGrowMore**\n",
        "\n",
        "**Data Science Intern May 2022**\n",
        "\n",
        "# **Task 7: Develop A Network That Can Read Handwriting**\n",
        "\n",
        "Dateset Link: https://en.wikipedia.org/wiki/MNIST_database\n",
        "\n",
        "***Author: Pawar Vedika Dinesh***\n",
        "\n"
      ],
      "metadata": {
        "id": "neylgY6iDnaL"
      }
    },
    {
      "cell_type": "code",
      "execution_count": 45,
      "metadata": {
        "id": "GMgn9AJl4ttQ"
      },
      "outputs": [],
      "source": [
        "import numpy as np\n",
        "import math\n",
        "import matplotlib.pyplot as plt\n",
        "import pandas as pd\n",
        "from pandas import read_csv\n",
        "import seaborn as sns\n",
        "import tensorflow as tf\n",
        "import cv2\n"
      ]
    },
    {
      "cell_type": "code",
      "source": [
        "(x_train,y_train),(x_test,y_test)=tf.keras.datasets.mnist.load_data()"
      ],
      "metadata": {
        "id": "m4Fg2L8s4WL2"
      },
      "execution_count": 46,
      "outputs": []
    },
    {
      "cell_type": "code",
      "source": [
        "from keras.datasets import mnist\n",
        "objects=mnist\n",
        "(train_ing,train_lab),(test_ing,test_lab)=objects.load_data()"
      ],
      "metadata": {
        "id": "9Co5EYiW4uyx"
      },
      "execution_count": 47,
      "outputs": []
    },
    {
      "cell_type": "code",
      "source": [
        "plt.imshow(train_ing[111])\n",
        "print(train_lab[111])"
      ],
      "metadata": {
        "id": "IxrW5fWM46gb",
        "colab": {
          "base_uri": "https://localhost:8080/",
          "height": 282
        },
        "outputId": "8cf8b5b2-0854-4bd0-a7b4-5f5888a3238e"
      },
      "execution_count": 48,
      "outputs": [
        {
          "output_type": "stream",
          "name": "stdout",
          "text": [
            "3\n"
          ]
        },
        {
          "output_type": "display_data",
          "data": {
            "text/plain": [
              "<Figure size 432x288 with 1 Axes>"
            ],
            "image/png": "[encoded data removed]"
          },
          "metadata": {
            "needs_background": "light"
          }
        }
      ]
    },
    {
      "cell_type": "code",
      "source": [
        "plt.figure(figsize = (10,8))\n",
        "sns.countplot(y_train)"
      ],
      "metadata": {
        "colab": {
          "base_uri": "https://localhost:8080/",
          "height": 555
        },
        "id": "M2bSY15o_b6g",
        "outputId": "89e2b436-4d08-4e7f-c334-095b92137857"
      },
      "execution_count": 50,
      "outputs": [
        {
          "output_type": "stream",
          "name": "stderr",
          "text": [
            "/usr/local/lib/python3.7/dist-packages/seaborn/_decorators.py:43: FutureWarning: Pass the following variable as a keyword arg: x. From version 0.12, the only valid positional argument will be `data`, and passing other arguments without an explicit keyword will result in an error or misinterpretation.\n",
            "  FutureWarning\n"
          ]
        },
        {
          "output_type": "execute_result",
          "data": {
            "text/plain": [
              "<matplotlib.axes._subplots.AxesSubplot at 0x7f8cec801890>"
            ]
          },
          "metadata": {},
          "execution_count": 50
        },
        {
          "output_type": "display_data",
          "data": {
            "text/plain": [
              "<Figure size 720x576 with 1 Axes>"
            ],
            "image/png": "[encoded data removed]"
          },
          "metadata": {
            "needs_background": "light"
          }
        }
      ]
    },
    {
      "cell_type": "markdown",
      "source": [
        "***Displaying some images***"
      ],
      "metadata": {
        "id": "ewBNYXAzE1pB"
      }
    },
    {
      "cell_type": "code",
      "source": [
        "fig, axes = plt.subplots(ncols=5, sharex=False, \n",
        "    sharey=True, figsize=(10, 4))\n",
        "for i in range(5):\n",
        "    axes[i].set_title(y_train[i])\n",
        "    axes[i].imshow(x_train[i], cmap='gray_r')\n",
        "    axes[i].get_xaxis().set_visible(False)\n",
        "    axes[i].get_yaxis().set_visible(False)\n",
        "plt.show()"
      ],
      "metadata": {
        "id": "KSudYgWO_g7G",
        "colab": {
          "base_uri": "https://localhost:8080/",
          "height": 147
        },
        "outputId": "d2c9ecc7-f110-44bd-ce1f-fa8d0a63f2e2"
      },
      "execution_count": 24,
      "outputs": [
        {
          "output_type": "display_data",
          "data": {
            "text/plain": [
              "<Figure size 720x288 with 5 Axes>"
            ],
            "image/png": "[encoded data removed]"
          },
          "metadata": {
            "needs_background": "light"
          }
        }
      ]
    },
    {
      "cell_type": "markdown",
      "source": [
        "**Pre-processing the data**"
      ],
      "metadata": {
        "id": "BxBcd_E7FA30"
      }
    },
    {
      "cell_type": "code",
      "source": [
        "print('Training images shape : ',x_train.shape)\n",
        "print('Testing images shape : ',x_test.shape)"
      ],
      "metadata": {
        "colab": {
          "base_uri": "https://localhost:8080/"
        },
        "id": "lb6UlnXXE1QY",
        "outputId": "a627d0b4-36fe-461e-9f9f-627dbcf2b0c6"
      },
      "execution_count": 25,
      "outputs": [
        {
          "output_type": "stream",
          "name": "stdout",
          "text": [
            "Training images shape :  (60000, 28, 28)\n",
            "Testing images shape :  (10000, 28, 28)\n"
          ]
        }
      ]
    },
    {
      "cell_type": "code",
      "source": [
        "x_train = x_train.reshape(x_train.shape[0], 28, 28, 1)\n",
        "x_test = x_test.reshape(x_test.shape[0], 28, 28, 1)\n",
        "input_shape = (28, 28, 1)"
      ],
      "metadata": {
        "id": "Yv_yMxb3FEfg"
      },
      "execution_count": 26,
      "outputs": []
    },
    {
      "cell_type": "code",
      "source": [
        "x_train=x_train/255.0\n",
        "x_testg=x_test/255.0\n",
        "num_classes = 10"
      ],
      "metadata": {
        "id": "rFANGt31FJIA"
      },
      "execution_count": 27,
      "outputs": []
    },
    {
      "cell_type": "markdown",
      "source": [
        "# **Creating the model**\n",
        "\n",
        "**Model Architecture**"
      ],
      "metadata": {
        "id": "LzS5UgkMFQi_"
      }
    },
    {
      "cell_type": "markdown",
      "source": [
        "We will have to first build the model architecture and define it based on our dataset. We are going to add the following layers:\n",
        "\n",
        "1. Conv2D - for the convolution layers\n",
        "\n",
        "2. Dropout - to prevent overfitting\n",
        "\n",
        "3. Dense - a fully connected layer\n",
        "\n",
        "4. Softmax activation - This is used to convert all predictions into probability The model architecture can be tuned to get optimal performance\n",
        "\n",
        "so i am goimg to create a model with"
      ],
      "metadata": {
        "id": "lBOKvOZkFWgK"
      }
    },
    {
      "cell_type": "markdown",
      "source": [
        "**CNN + Three layers + relu + (3,3) kernel_size + Dropout rate (0.3)**"
      ],
      "metadata": {
        "id": "ymCA7AbzFcfs"
      }
    },
    {
      "cell_type": "code",
      "source": [
        "from tensorflow.keras.models import Sequential\n",
        "from tensorflow.keras.layers import Dense, Dropout, Flatten,Activation\n",
        "from tensorflow.keras.layers import Conv2D,MaxPooling2D\n",
        "from tensorflow.keras.layers import BatchNormalization"
      ],
      "metadata": {
        "id": "gq2anT4uFL-V"
      },
      "execution_count": 11,
      "outputs": []
    },
    {
      "cell_type": "code",
      "source": [
        "model = Sequential()\n",
        "\n",
        "model.add(Conv2D(128, kernel_size=(3, 3),\n",
        "                 activation=tf.nn.relu,\n",
        "                 input_shape=input_shape))\n",
        "model.add(BatchNormalization())\n",
        "model.add(Dropout(0.3))\n",
        "\n",
        "model.add(Conv2D(64, (3, 3), activation=tf.nn.relu))\n",
        "model.add(BatchNormalization())\n",
        "model.add(Dropout(0.3))\n",
        "\n",
        "model.add(Conv2D(32, (3, 3), activation=tf.nn.relu))\n",
        "model.add(BatchNormalization())\n",
        "model.add(Dropout(0.3))\n",
        "\n",
        "\n",
        "model.add(MaxPooling2D(pool_size=(2, 2)))\n",
        "model.add(Dropout(0.3))\n",
        "model.add(Flatten())\n",
        "model.add(Dense(128, activation=tf.nn.relu))\n",
        "model.add(Dropout(0.3))\n",
        "model.add(Dense(num_classes, activation=tf.nn.softmax))"
      ],
      "metadata": {
        "id": "YBkcqARYFkZE"
      },
      "execution_count": 12,
      "outputs": []
    },
    {
      "cell_type": "code",
      "source": [
        "model.summary()"
      ],
      "metadata": {
        "colab": {
          "base_uri": "https://localhost:8080/"
        },
        "id": "vWlWYyDpFom_",
        "outputId": "bde319fe-9991-4a74-8627-cc0dadfb2c95"
      },
      "execution_count": 13,
      "outputs": [
        {
          "output_type": "stream",
          "name": "stdout",
          "text": [
            "Model: \"sequential\"\n",
            "_________________________________________________________________\n",
            " Layer (type)                Output Shape              Param #   \n",
            "=================================================================\n",
            " conv2d (Conv2D)             (None, 26, 26, 128)       1280      \n",
            "                                                                 \n",
            " batch_normalization (BatchN  (None, 26, 26, 128)      512       \n",
            " ormalization)                                                   \n",
            "                                                                 \n",
            " dropout (Dropout)           (None, 26, 26, 128)       0         \n",
            "                                                                 \n",
            " conv2d_1 (Conv2D)           (None, 24, 24, 64)        73792     \n",
            "                                                                 \n",
            " batch_normalization_1 (Batc  (None, 24, 24, 64)       256       \n",
            " hNormalization)                                                 \n",
            "                                                                 \n",
            " dropout_1 (Dropout)         (None, 24, 24, 64)        0         \n",
            "                                                                 \n",
            " conv2d_2 (Conv2D)           (None, 22, 22, 32)        18464     \n",
            "                                                                 \n",
            " batch_normalization_2 (Batc  (None, 22, 22, 32)       128       \n",
            " hNormalization)                                                 \n",
            "                                                                 \n",
            " dropout_2 (Dropout)         (None, 22, 22, 32)        0         \n",
            "                                                                 \n",
            " max_pooling2d (MaxPooling2D  (None, 11, 11, 32)       0         \n",
            " )                                                               \n",
            "                                                                 \n",
            " dropout_3 (Dropout)         (None, 11, 11, 32)        0         \n",
            "                                                                 \n",
            " flatten (Flatten)           (None, 3872)              0         \n",
            "                                                                 \n",
            " dense (Dense)               (None, 128)               495744    \n",
            "                                                                 \n",
            " dropout_4 (Dropout)         (None, 128)               0         \n",
            "                                                                 \n",
            " dense_1 (Dense)             (None, 10)                1290      \n",
            "                                                                 \n",
            "=================================================================\n",
            "Total params: 591,466\n",
            "Trainable params: 591,018\n",
            "Non-trainable params: 448\n",
            "_________________________________________________________________\n"
          ]
        }
      ]
    },
    {
      "cell_type": "markdown",
      "source": [
        "**Training the model**"
      ],
      "metadata": {
        "id": "wPasm8ghFwn-"
      }
    },
    {
      "cell_type": "code",
      "source": [
        ""
      ],
      "metadata": {
        "id": "K-EPx2TS4W-A"
      },
      "execution_count": null,
      "outputs": []
    },
    {
      "cell_type": "code",
      "source": [
        "model.compile(optimizer='adam', \n",
        "              loss='sparse_categorical_crossentropy', \n",
        "              metrics=['accuracy'])\n",
        "history=model.fit(x=x_train,\n",
        "                  y=y_train,\n",
        "                  validation_split=0.1,\n",
        "                  epochs=10)"
      ],
      "metadata": {
        "colab": {
          "base_uri": "https://localhost:8080/"
        },
        "id": "kH50hGkzFtd_",
        "outputId": "2e734c06-99d1-4437-edf4-62b1dbc7be03"
      },
      "execution_count": 28,
      "outputs": [
        {
          "output_type": "stream",
          "name": "stdout",
          "text": [
            "Epoch 1/10\n",
            "1688/1688 [==============================] - 636s 376ms/step - loss: 0.0403 - accuracy: 0.9885 - val_loss: 0.1241 - val_accuracy: 0.9830\n",
            "Epoch 2/10\n",
            "1688/1688 [==============================] - 624s 370ms/step - loss: 0.0384 - accuracy: 0.9889 - val_loss: 0.1029 - val_accuracy: 0.9873\n",
            "Epoch 3/10\n",
            "1688/1688 [==============================] - 619s 367ms/step - loss: 0.0320 - accuracy: 0.9909 - val_loss: 0.0888 - val_accuracy: 0.9877\n",
            "Epoch 4/10\n",
            "1688/1688 [==============================] - 623s 369ms/step - loss: 0.0320 - accuracy: 0.9904 - val_loss: 0.0949 - val_accuracy: 0.9875\n",
            "Epoch 5/10\n",
            "1688/1688 [==============================] - 622s 368ms/step - loss: 0.0304 - accuracy: 0.9907 - val_loss: 0.1063 - val_accuracy: 0.9855\n",
            "Epoch 6/10\n",
            "1688/1688 [==============================] - 628s 372ms/step - loss: 0.0296 - accuracy: 0.9912 - val_loss: 0.0847 - val_accuracy: 0.9868\n",
            "Epoch 7/10\n",
            "1688/1688 [==============================] - 623s 369ms/step - loss: 0.0273 - accuracy: 0.9914 - val_loss: 0.0598 - val_accuracy: 0.9902\n",
            "Epoch 8/10\n",
            "1688/1688 [==============================] - 628s 372ms/step - loss: 0.0247 - accuracy: 0.9925 - val_loss: 0.0708 - val_accuracy: 0.9900\n",
            "Epoch 9/10\n",
            "1688/1688 [==============================] - 622s 368ms/step - loss: 0.0230 - accuracy: 0.9925 - val_loss: 0.0692 - val_accuracy: 0.9907\n",
            "Epoch 10/10\n",
            "1688/1688 [==============================] - 619s 367ms/step - loss: 0.0236 - accuracy: 0.9919 - val_loss: 0.0610 - val_accuracy: 0.9927\n"
          ]
        }
      ]
    },
    {
      "cell_type": "markdown",
      "source": [
        "**Saving and loading the model**"
      ],
      "metadata": {
        "id": "3UW9TLHDF8H7"
      }
    },
    {
      "cell_type": "code",
      "source": [
        "model.save('MNproject.h5')"
      ],
      "metadata": {
        "id": "xHBNn-gmF5GS"
      },
      "execution_count": 30,
      "outputs": []
    },
    {
      "cell_type": "code",
      "source": [
        "from tensorflow.keras.models import load_model\n",
        "model = load_model('MNproject.h5')\n"
      ],
      "metadata": {
        "id": "Fhen8AkcGA_2"
      },
      "execution_count": 31,
      "outputs": []
    },
    {
      "cell_type": "markdown",
      "source": [
        "**Evaluating the model**"
      ],
      "metadata": {
        "id": "n0JVcLLKGICq"
      }
    },
    {
      "cell_type": "code",
      "source": [
        "loss_and_acc=model.evaluate(x_test,y_test)\n",
        "print(\"Test Loss\", loss_and_acc[0])\n",
        "print(\"Test Accuracy\", loss_and_acc[1])"
      ],
      "metadata": {
        "colab": {
          "base_uri": "https://localhost:8080/"
        },
        "id": "CiPpxMS-GDAa",
        "outputId": "b27ed256-f339-4d79-ead8-d38faab8a86c"
      },
      "execution_count": 32,
      "outputs": [
        {
          "output_type": "stream",
          "name": "stdout",
          "text": [
            "313/313 [==============================] - 37s 116ms/step - loss: 3.2522 - accuracy: 0.9921\n",
            "Test Loss 3.2522096633911133\n",
            "Test Accuracy 0.9921000003814697\n"
          ]
        }
      ]
    },
    {
      "cell_type": "markdown",
      "source": [
        "***Plotting Training & Validation plots***"
      ],
      "metadata": {
        "id": "ecS4EhpMGPFb"
      }
    },
    {
      "cell_type": "code",
      "source": [
        "acc = history.history['accuracy']\n",
        "val_acc = history.history['val_accuracy']\n",
        "loss = history.history['loss']\n",
        "val_loss = history.history['val_loss']\n",
        "epochs = range(len(acc))\n",
        "\n",
        "fig, ax = plt.subplots(nrows=1, ncols=2, figsize=(20, 6))\n",
        "ax[0].plot(epochs, acc, 'y', label='Training accuracy')\n",
        "ax[0].plot(epochs, val_acc, 'g', label='Validation accuracy')\n",
        "ax[0].legend(loc=0)\n",
        "ax[1].plot(epochs, loss, 'y', label='Training loss')\n",
        "ax[1].plot(epochs, val_loss, 'g', label='Validation loss')\n",
        "ax[1].legend(loc=0)\n",
        "\n",
        "plt.suptitle('Training and validation')\n",
        "plt.show()"
      ],
      "metadata": {
        "colab": {
          "base_uri": "https://localhost:8080/",
          "height": 417
        },
        "id": "TEgabEq1GQnN",
        "outputId": "e1370645-414a-4bf2-db6e-a7f293c6357d"
      },
      "execution_count": 33,
      "outputs": [
        {
          "output_type": "display_data",
          "data": {
            "text/plain": [
              "<Figure size 1440x432 with 2 Axes>"
            ],
            "image/png": "[encoded data removed]"
          },
          "metadata": {
            "needs_background": "light"
          }
        }
      ]
    },
    {
      "cell_type": "code",
      "source": [
        "y_predicted = model.predict(x_test)\n",
        "y_predicted_labels = [np.argmax(i) for i in y_predicted]\n",
        "cm = tf.math.confusion_matrix(labels=y_test,predictions=y_predicted_labels)\n",
        "cm"
      ],
      "metadata": {
        "colab": {
          "base_uri": "https://localhost:8080/"
        },
        "id": "hT2vTdOQGWt_",
        "outputId": "ebef0451-159e-44d3-beb2-cb0f8e4aa395"
      },
      "execution_count": 34,
      "outputs": [
        {
          "output_type": "execute_result",
          "data": {
            "text/plain": [
              "<tf.Tensor: shape=(10, 10), dtype=int32, numpy=\n",
              "array([[ 980,    0,    0,    0,    0,    0,    0,    0,    0,    0],\n",
              "       [   1, 1127,    3,    0,    1,    0,    2,    0,    1,    0],\n",
              "       [   1,    0, 1027,    0,    2,    0,    0,    2,    0,    0],\n",
              "       [   0,    0,    0, 1006,    0,    1,    0,    1,    2,    0],\n",
              "       [   0,    0,    0,    0,  980,    0,    1,    0,    0,    1],\n",
              "       [   2,    0,    1,    3,    0,  874,    7,    1,    2,    2],\n",
              "       [   7,    1,    0,    0,    3,    1,  945,    0,    1,    0],\n",
              "       [   0,    2,    5,    0,    0,    0,    0, 1020,    1,    0],\n",
              "       [   4,    0,    1,    1,    2,    0,    0,    1,  965,    0],\n",
              "       [   0,    0,    0,    0,   10,    0,    0,    0,    2,  997]],\n",
              "      dtype=int32)>"
            ]
          },
          "metadata": {},
          "execution_count": 34
        }
      ]
    },
    {
      "cell_type": "markdown",
      "source": [
        "**Plotting heat map**"
      ],
      "metadata": {
        "id": "YMy-7sEMLH4j"
      }
    },
    {
      "cell_type": "code",
      "source": [
        "plt.figure(figsize = (10,7))\n",
        "sns.heatmap(cm, annot=True, fmt='d', cmap = 'coolwarm')\n",
        "plt.xlabel('Predicted')\n",
        "plt.ylabel('Truth')"
      ],
      "metadata": {
        "colab": {
          "base_uri": "https://localhost:8080/",
          "height": 459
        },
        "id": "QxjaKysCLDRE",
        "outputId": "aef80a62-b1a9-4bd2-9815-b5b5e02308af"
      },
      "execution_count": 35,
      "outputs": [
        {
          "output_type": "execute_result",
          "data": {
            "text/plain": [
              "Text(69.0, 0.5, 'Truth')"
            ]
          },
          "metadata": {},
          "execution_count": 35
        },
        {
          "output_type": "display_data",
          "data": {
            "text/plain": [
              "<Figure size 720x504 with 2 Axes>"
            ],
            "image/png": "[encoded data removed]"
          },
          "metadata": {
            "needs_background": "light"
          }
        }
      ]
    },
    {
      "cell_type": "markdown",
      "source": [
        "Testing the Model"
      ],
      "metadata": {
        "id": "CPa3wRJPLPIj"
      }
    },
    {
      "cell_type": "code",
      "source": [
        "plt.imshow(x_test[7],cmap='gray_r')\n",
        "plt.title('Actual Value: {}'.format(y_test[7]))\n",
        "prediction=model.predict(x_test)\n",
        "\n",
        "plt.axis('off')\n",
        "print('Predicted Value: ',np.argmax(prediction[7]))\n",
        "if(y_test[5]==(np.argmax(prediction[5]))):\n",
        "  print('Successful prediction')\n",
        "else:\n",
        "  print('Unsuccessful prediction')"
      ],
      "metadata": {
        "colab": {
          "base_uri": "https://localhost:8080/",
          "height": 299
        },
        "id": "IG417US_LHWv",
        "outputId": "324f9c58-f780-44e8-9759-b02acb66df4a"
      },
      "execution_count": 51,
      "outputs": [
        {
          "output_type": "stream",
          "name": "stdout",
          "text": [
            "Predicted Value:  9\n",
            "Successful prediction\n"
          ]
        },
        {
          "output_type": "display_data",
          "data": {
            "text/plain": [
              "<Figure size 432x288 with 1 Axes>"
            ],
            "image/png": "[encoded data removed]"
          },
          "metadata": {
            "needs_background": "light"
          }
        }
      ]
    },
    {
      "cell_type": "code",
      "source": [
        "plt.imshow(x_test[1],cmap='gray_r')\n",
        "plt.title('Actual Value: {}'.format(y_test[1]))\n",
        "prediction=model.predict(x_test)\n",
        "plt.axis('off')\n",
        "print('Predicted Value: ',np.argmax(prediction[1]))\n",
        "if(y_test[1]==(np.argmax(prediction[1]))):\n",
        "  print('Successful prediction')\n",
        "else:\n",
        "  print('Unsuccessful prediction')"
      ],
      "metadata": {
        "colab": {
          "base_uri": "https://localhost:8080/",
          "height": 299
        },
        "id": "BGk4T4hrLUtB",
        "outputId": "48f27461-149c-4c99-ba92-5b83911ccbc4"
      },
      "execution_count": 52,
      "outputs": [
        {
          "output_type": "stream",
          "name": "stdout",
          "text": [
            "Predicted Value:  2\n",
            "Successful prediction\n"
          ]
        },
        {
          "output_type": "display_data",
          "data": {
            "text/plain": [
              "<Figure size 432x288 with 1 Axes>"
            ],
            "image/png": "[encoded data removed]"
          },
          "metadata": {
            "needs_background": "light"
          }
        }
      ]
    },
    {
      "cell_type": "markdown",
      "source": [
        "# **Done**!!!!!"
      ],
      "metadata": {
        "id": "a5NKrTaTLdS_"
      }
    }
  ]
}